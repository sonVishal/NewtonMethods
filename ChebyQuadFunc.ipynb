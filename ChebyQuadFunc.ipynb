{
 "cells": [
  {
   "cell_type": "code",
   "execution_count": 9,
   "metadata": {
    "collapsed": false
   },
   "outputs": [
    {
     "data": {
      "text/plain": [
       "chebyquad (generic function with 1 method)"
      ]
     },
     "execution_count": 9,
     "metadata": {},
     "output_type": "execute_result"
    }
   ],
   "source": [
    "function chebyquad(n::Integer)\n",
    "    name = \"chebyquad\"\n",
    "    const tk = 1/n\n",
    "\n",
    "    function f!(x, fvec)\n",
    "        fill!(fvec, 0)\n",
    "        for j = 1:n\n",
    "            temp1 = 1.0\n",
    "            temp2 = 2x[j]-1\n",
    "            temp = 2temp2\n",
    "            for i = 1:n\n",
    "                fvec[i] += temp2\n",
    "                ti = temp*temp2 - temp1\n",
    "                temp1 = temp2\n",
    "                temp2 = ti\n",
    "            end\n",
    "        end\n",
    "        iev = -1.0\n",
    "        for k = 1:n\n",
    "            fvec[k] *= tk\n",
    "            if iev > 0\n",
    "                fvec[k] += 1/(k^2-1)\n",
    "            end\n",
    "            iev = -iev\n",
    "        end\n",
    "    end\n",
    "\n",
    "    function g!(x, fjac)\n",
    "        for j = 1:n\n",
    "            temp1 = 1.\n",
    "            temp2 = 2x[j] - 1\n",
    "            temp = 2*temp2\n",
    "            temp3 = 0.0\n",
    "            temp4 = 2.0\n",
    "            for k = 1:n\n",
    "                fjac[k,j] = tk*temp4\n",
    "                ti = 4*temp2 + temp*temp4 - temp3\n",
    "                temp3 = temp4\n",
    "                temp4 = ti\n",
    "                ti = temp*temp2 - temp1\n",
    "                temp1 = temp2\n",
    "                temp2 = ti\n",
    "            end\n",
    "        end\n",
    "    end\n",
    "    x = collect(1:n)/(n+1)\n",
    "    return name, f!, g!, x\n",
    "end"
   ]
  },
  {
   "cell_type": "code",
   "execution_count": 10,
   "metadata": {
    "collapsed": false
   },
   "outputs": [],
   "source": [
    "x = ones(2);"
   ]
  },
  {
   "cell_type": "code",
   "execution_count": 13,
   "metadata": {
    "collapsed": false
   },
   "outputs": [
    {
     "data": {
      "text/plain": [
       "(\"chebyquad\",f!,g!,[0.3333333333333333,0.6666666666666666])"
      ]
     },
     "execution_count": 13,
     "metadata": {},
     "output_type": "execute_result"
    }
   ],
   "source": [
    "(name, F,G,x) = chebyquad(2)"
   ]
  },
  {
   "cell_type": "code",
   "execution_count": 16,
   "metadata": {
    "collapsed": false
   },
   "outputs": [],
   "source": [
    "f = zero(x)\n",
    "F(x,f)"
   ]
  },
  {
   "cell_type": "code",
   "execution_count": 17,
   "metadata": {
    "collapsed": false
   },
   "outputs": [
    {
     "data": {
      "text/plain": [
       "2-element Array{Float64,1}:\n",
       " -5.55112e-17\n",
       " -0.444444   "
      ]
     },
     "execution_count": 17,
     "metadata": {},
     "output_type": "execute_result"
    }
   ],
   "source": [
    "f"
   ]
  },
  {
   "cell_type": "code",
   "execution_count": null,
   "metadata": {
    "collapsed": true
   },
   "outputs": [],
   "source": []
  }
 ],
 "metadata": {
  "kernelspec": {
   "display_name": "Julia 0.4.5",
   "language": "julia",
   "name": "julia-0.4"
  },
  "language_info": {
   "file_extension": ".jl",
   "mimetype": "application/julia",
   "name": "julia",
   "version": "0.4.5"
  }
 },
 "nbformat": 4,
 "nbformat_minor": 0
}
