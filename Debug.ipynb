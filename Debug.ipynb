{
 "cells": [
  {
   "cell_type": "code",
   "execution_count": 10,
   "metadata": {
    "collapsed": false
   },
   "outputs": [
    {
     "data": {
      "text/plain": [
       "getMachineConstants (generic function with 1 method)"
      ]
     },
     "execution_count": 10,
     "metadata": {},
     "output_type": "execute_result"
    }
   ],
   "source": [
    "include(\"Constants.jl\")"
   ]
  },
  {
   "cell_type": "code",
   "execution_count": 11,
   "metadata": {
    "collapsed": false
   },
   "outputs": [
    {
     "data": {
      "text/plain": [
       "showerror (generic function with 28 methods)"
      ]
     },
     "execution_count": 11,
     "metadata": {},
     "output_type": "execute_result"
    }
   ],
   "source": [
    "include(\"Error.jl\")"
   ]
  },
  {
   "cell_type": "code",
   "execution_count": 12,
   "metadata": {
    "collapsed": false
   },
   "outputs": [
    {
     "data": {
      "text/plain": [
       "wnorm (generic function with 1 method)"
      ]
     },
     "execution_count": 12,
     "metadata": {},
     "output_type": "execute_result"
    }
   ],
   "source": [
    "include(\"Helper.jl\")"
   ]
  },
  {
   "cell_type": "code",
   "execution_count": 13,
   "metadata": {
    "collapsed": false
   },
   "outputs": [
    {
     "data": {
      "text/plain": [
       "idamax (generic function with 1 method)"
      ]
     },
     "execution_count": 13,
     "metadata": {},
     "output_type": "execute_result"
    }
   ],
   "source": [
    "include(\"Jacobian.jl\")"
   ]
  },
  {
   "cell_type": "code",
   "execution_count": 14,
   "metadata": {
    "collapsed": false
   },
   "outputs": [
    {
     "data": {
      "text/plain": [
       "show (generic function with 106 methods)"
      ]
     },
     "execution_count": 14,
     "metadata": {},
     "output_type": "execute_result"
    }
   ],
   "source": [
    "include(\"Options.jl\")"
   ]
  },
  {
   "cell_type": "code",
   "execution_count": 15,
   "metadata": {
    "collapsed": false
   },
   "outputs": [
    {
     "data": {
      "text/plain": [
       "checkOptions (generic function with 1 method)"
      ]
     },
     "execution_count": 15,
     "metadata": {},
     "output_type": "execute_result"
    }
   ],
   "source": [
    "include(\"CheckOptionsNLEQ1.jl\")"
   ]
  },
  {
   "cell_type": "code",
   "execution_count": 22,
   "metadata": {
    "collapsed": false
   },
   "outputs": [
    {
     "data": {
      "text/plain": [
       "n1int (generic function with 1 method)"
      ]
     },
     "execution_count": 22,
     "metadata": {},
     "output_type": "execute_result"
    }
   ],
   "source": [
    "include(\"NLEQ1Main.jl\")"
   ]
  },
  {
   "cell_type": "code",
   "execution_count": 17,
   "metadata": {
    "collapsed": false
   },
   "outputs": [
    {
     "data": {
      "text/plain": [
       "nleq1 (generic function with 1 method)"
      ]
     },
     "execution_count": 17,
     "metadata": {},
     "output_type": "execute_result"
    }
   ],
   "source": [
    "include(\"NLEQ1.jl\")"
   ]
  },
  {
   "cell_type": "code",
   "execution_count": 18,
   "metadata": {
    "collapsed": false
   },
   "outputs": [
    {
     "data": {
      "text/plain": [
       "chebyquad (generic function with 1 method)"
      ]
     },
     "execution_count": 18,
     "metadata": {},
     "output_type": "execute_result"
    }
   ],
   "source": [
    "function chebyquad(n::Integer)\n",
    "    name = \"chebyquad\"\n",
    "    const tk = 1/n\n",
    "\n",
    "    function f!(x, fvec)\n",
    "        fill!(fvec, 0)\n",
    "        for j = 1:n\n",
    "            temp1 = 1.0\n",
    "            temp2 = 2x[j]-1\n",
    "            temp = 2temp2\n",
    "            for i = 1:n\n",
    "                fvec[i] += temp2\n",
    "                ti = temp*temp2 - temp1\n",
    "                temp1 = temp2\n",
    "                temp2 = ti\n",
    "            end\n",
    "        end\n",
    "        iev = -1.0\n",
    "        for k = 1:n\n",
    "            fvec[k] *= tk\n",
    "            if iev > 0\n",
    "                fvec[k] += 1/(k^2-1)\n",
    "            end\n",
    "            iev = -iev\n",
    "        end\n",
    "    end\n",
    "\n",
    "    function g!(x, fjac)\n",
    "        for j = 1:n\n",
    "            temp1 = 1.\n",
    "            temp2 = 2x[j] - 1\n",
    "            temp = 2*temp2\n",
    "            temp3 = 0.0\n",
    "            temp4 = 2.0\n",
    "            for k = 1:n\n",
    "                fjac[k,j] = tk*temp4\n",
    "                ti = 4*temp2 + temp*temp4 - temp3\n",
    "                temp3 = temp4\n",
    "                temp4 = ti\n",
    "                ti = temp*temp2 - temp1\n",
    "                temp1 = temp2\n",
    "                temp2 = ti\n",
    "            end\n",
    "        end\n",
    "    end\n",
    "    x = collect(1:n)/(n+1)\n",
    "    return name, f!, g!, x\n",
    "end"
   ]
  },
  {
   "cell_type": "code",
   "execution_count": 19,
   "metadata": {
    "collapsed": false
   },
   "outputs": [],
   "source": [
    "opt = OptionsNLEQ(OPT_PRINTWARNING => 1, OPT_PRINTITERATION => 5);"
   ]
  },
  {
   "cell_type": "code",
   "execution_count": 20,
   "metadata": {
    "collapsed": true
   },
   "outputs": [],
   "source": [
    "(name,fcn,jac,x) = chebyquad(2);\n",
    "xScal = ones(2);"
   ]
  },
  {
   "cell_type": "code",
   "execution_count": 23,
   "metadata": {
    "collapsed": false
   },
   "outputs": [
    {
     "name": "stdout",
     "output_type": "stream",
     "text": [
      "INFO: N = 2\n",
      "INFO: Prescribed relative precision 1.0e-6\n",
      "INFO: The Jacobian is supplied by numerical differentation (without feedback strategy)\n",
      "INFO: The Jacobian will be stored in full mode\n",
      "INFO: Automatic row scaling of the jacobian is allowed\n",
      "INFO: Rank-1 updates are inhibited\n",
      "INFO: Problem is specified as being highly nonlinear\n",
      "INFO: Bounded damping strategy is off\n",
      "INFO: Maximum permitted number of iteration steps : 50\n",
      "INFO: Internal parameters:\n",
      "\tStarting value for damping factor OPT_FCSTART = 0.01\n",
      "\tMinimum allowed damping factor OPT_FCMIN = 0.0001\n",
      "\tRank-1 updates decision parameter OPT_SIGMA = 100000.0\n"
     ]
    },
    {
     "ename": "LoadError",
     "evalue": "LoadError: TypeError: non-boolean (Int64) used in boolean context\nwhile loading In[23], in expression starting on line 1",
     "output_type": "error",
     "traceback": [
      "LoadError: TypeError: non-boolean (Int64) used in boolean context\nwhile loading In[23], in expression starting on line 1",
      ""
     ]
    }
   ],
   "source": [
    "(sol, stats, retCode) = nleq1(fcn,x,xScal,opt);"
   ]
  },
  {
   "cell_type": "code",
   "execution_count": null,
   "metadata": {
    "collapsed": true
   },
   "outputs": [],
   "source": [
    "println(\"retCode = $retCode\",\"\\n\");\n",
    "println(\"Options = $opt\",\"\\n\");\n",
    "println(\"Answer = $sol\")"
   ]
  },
  {
   "cell_type": "code",
   "execution_count": 18,
   "metadata": {
    "collapsed": false
   },
   "outputs": [],
   "source": [
    "try\n",
    "    a = ones(2)\n",
    "    b = zero(a)\n",
    "    fcn(a,b)\n",
    "catch err\n",
    "    throw(err)\n",
    "end"
   ]
  },
  {
   "cell_type": "code",
   "execution_count": 23,
   "metadata": {
    "collapsed": false
   },
   "outputs": [
    {
     "data": {
      "text/plain": [
       "1.0"
      ]
     },
     "execution_count": 23,
     "metadata": {},
     "output_type": "execute_result"
    }
   ],
   "source": [
    "a = ones(2);maximum(a)"
   ]
  },
  {
   "cell_type": "code",
   "execution_count": null,
   "metadata": {
    "collapsed": true
   },
   "outputs": [],
   "source": []
  }
 ],
 "metadata": {
  "kernelspec": {
   "display_name": "Julia 0.4.5",
   "language": "julia",
   "name": "julia-0.4"
  },
  "language_info": {
   "file_extension": ".jl",
   "mimetype": "application/julia",
   "name": "julia",
   "version": "0.4.5"
  }
 },
 "nbformat": 4,
 "nbformat_minor": 0
}
