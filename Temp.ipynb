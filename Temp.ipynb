{
 "cells": [
  {
   "cell_type": "code",
   "execution_count": 8,
   "metadata": {
    "collapsed": false
   },
   "outputs": [
    {
     "data": {
      "text/plain": [
       "nleq1 (generic function with 1 method)"
      ]
     },
     "execution_count": 8,
     "metadata": {},
     "output_type": "execute_result"
    }
   ],
   "source": [
    "include(\"CheckOptionsNLEQ1.jl\");\n",
    "\n",
    "# Bookkeeping\n",
    "# TODO: Make everything type independent\n",
    "# Currently everything is assumed to be Float64\n",
    "function nleq1(f,x,xscal,opt::OptionsNLEQ,wk::OptionsNLEQ)\n",
    "\n",
    "    # TODO: persistent variables\n",
    "    \n",
    "    # Initialize output statistics\n",
    "    stats = Dict{ASCIIString,Any}();\n",
    "\n",
    "    # Initialize error code 0\n",
    "    retCode = 0;\n",
    "\n",
    "    # To print or not?\n",
    "    printFlag = getOption!(opt,\"PR_ERR\",0);\n",
    "\n",
    "    # Begin main\n",
    "    \n",
    "    # First call or successive call\n",
    "    qsucc = getOption!(opt,\"QSUCC\",0);\n",
    "\n",
    "    # Check input parameters and options\n",
    "    n = length(x);\n",
    "    retCode = checkOptions(n,x,xscal,opt);\n",
    "\n",
    "    # Exit if any parameter error was detected\n",
    "    if retCode != 0\n",
    "        stats[\"Error_Code\"] = retCode;\n",
    "        return (stats, retCode)\n",
    "    end\n",
    "\n",
    "    # Check if this is a first call or successive call\n",
    "    # to nleq1\n",
    "    if qsucc != 0\n",
    "        # TODO: check what this should be doing\n",
    "    end\n",
    "\n",
    "    # Check if the Jacobian is Dense/Sparse or Banded matrix\n",
    "    mstor = getOption!(opt,\"MSTOR\",0);\n",
    "    if mstor == 0\n",
    "        m1 = n;\n",
    "        m2 = n;\n",
    "    elseif mstor == 1\n",
    "        ml = getOption!(opt,\"ML\",0);\n",
    "        mu = getOption!(opt,\"MU\",0);\n",
    "        m1 = 2*ml + mu + 1;\n",
    "        m2 = ml + mu + 1;\n",
    "    end\n",
    "\n",
    "    # User given Jacobian or not\n",
    "    jacgen = getOption!(opt,\"JACGEN\",0);\n",
    "    if jacgen == 0\n",
    "        jacgen = 2;\n",
    "    end\n",
    "    opt.options[\"JACGEN\"] = jacgen;\n",
    "\n",
    "    qrank1 = getOption!(opt,\"QRANK1\",0);\n",
    "    qordi  = getOption!(opt,\"QORDI\",0);\n",
    "    qsimpl = getOption!(opt,\"QSIMPL\",0);\n",
    "\n",
    "    if qrank1 == 1\n",
    "        nbroy = getOption!(wk,\"NBROY\",0);\n",
    "        if nbroy == 0\n",
    "            nbroy = max(m2,10);\n",
    "        end\n",
    "        wk.options[\"NBROY\"] = nbroy;\n",
    "    else\n",
    "        nbroy = 0;\n",
    "    end\n",
    "\n",
    "    # Workspace: WK\n",
    "\n",
    "    initOption!(wk,\"A\",0.0);\n",
    "\n",
    "    if qrank1 == 1\n",
    "        wk.options[\"DXSAVE\"] = zeros(n,nbroy);\n",
    "    else\n",
    "        wk.options[\"DXSAVE\"] = 0.0;\n",
    "    end\n",
    "\n",
    "    initOptions!(wk,\"DX\" => zeros(n),\"DXQ\" => zeros(n),\"XA\" => zeros(n));\n",
    "    initOptions!(wk,\"XWA\" => zeros(n),\"F\" => zeros(n),\"FA\" => zeros(n));\n",
    "    initOptions!(wk,\"ETA\" => zeros(n),\"XW\" => zeros(n),\"FW\" => zeros(n));\n",
    "    initOption!(wk,\"DXQA\",zeros(n));\n",
    "\n",
    "    initOptions!(wk,\"SUMXA0\" => 0.0, \"SUMXA1\" => 0.0, \"FCMON\" => 0.0);\n",
    "    initOptions!(wk,\"FCMIN\" => 0.0, \"SIGMA\" => 0.0, \"SIGMA2\" => 0.0);\n",
    "    initOptions!(wk,\"FCA\" => 0.0, \"FCKEEP\" => 0.0, \"FCPRI\" => 0.0);\n",
    "    initOptions!(wk,\"DMYCOR\" => 0.0, \"CONV\" => 0.0, \"SUMX\" => 0.0);\n",
    "    initOptions!(wk,\"DLEVF\" => 0.0, \"NITER\" => 0, \"NCORR\" => 0);\n",
    "    initOptions!(wk,\"NFCN\" => 0, \"NJAC\" => 0, \"NFCNJ\" => 0);\n",
    "    initOptions!(wk,\"NREJR1\" => 0, \"NEW\" => 0, \"ICONV\" => 0);\n",
    "\n",
    "    initOption!(opt,\"NOROWSCAL\", 0);\n",
    "\n",
    "    # TODO: Print log of things done till now\n",
    "\n",
    "    # Line 742 starts here\n",
    "    nonlin = getOption!(opt,\"NONLIN\",3);\n",
    "    initOption!(opt,\"BOUNDEDDAMP\",0);\n",
    "\n",
    "    if opt.options[\"BOUNDEDDAMP\"] == 0\n",
    "        qbdamp = Int(nonlin == 4);\n",
    "    elseif opt.options[\"BOUNDEDDAMP\"] == 1\n",
    "        qbdamp = 1;\n",
    "    elseif opt.options[\"BOUNDEDDAMP\"] == 2\n",
    "        qbdamp = 0;\n",
    "    end\n",
    "\n",
    "    initOption!(wk,\"FCBND\",0.0);\n",
    "\n",
    "    if qbdamp == 1\n",
    "        if wk.options[\"FCBND\"] < 1.0\n",
    "            wk.options[\"FCBND\"] = 10.0;\n",
    "        end\n",
    "    end\n",
    "\n",
    "    # TODO: print somethings\n",
    "\n",
    "    # Maximum permitted number of iteration steps\n",
    "    nitmax = getOption!(wk,\"NITMAX\",50);\n",
    "    if nitmax <= 0\n",
    "        nitmax = 50;\n",
    "    end\n",
    "    wk.options[\"NITMAX\"] = nitmax;\n",
    "\n",
    "    # TODO: Print somethings\n",
    "\n",
    "    # Initial damping factor for highly nonlinear problems\n",
    "    initOption!(wk,\"FCSTART\",0.0);\n",
    "    qfcstr = wk.options[\"FCSTART\"] > 0.0;\n",
    "    if !qfcstr\n",
    "        wk.options[\"FCSTART\"] = 1.0e-2;\n",
    "        if nonlin == 4\n",
    "            wk.options[\"FCSTART\"] = 1.0e-4;\n",
    "        end\n",
    "    end\n",
    "\n",
    "    # Minimal permitted damping factor\n",
    "    initOption!(wk,\"FCMIN\",0.0);\n",
    "    if wk.options[\"FCMIN\"] <= 0.0\n",
    "        wk.options[\"FCMIN\"] = 1.0e-4;\n",
    "        if nonlin == 4\n",
    "            wk.options[\"FCMIN\"] = 1.0e-8;\n",
    "        end\n",
    "    end\n",
    "    fcmin = getOption!(wk,\"FCMIN\",0.0);\n",
    "\n",
    "    # Rank1 decision parameter SIGMA\n",
    "    initOption!(wk,\"SIGMA\",0.0);\n",
    "    if wk.options[\"SIGMA\"] < 1.0\n",
    "        wk.options[\"SIGMA\"] = 3.0;\n",
    "    end\n",
    "    if qrank1 == 0\n",
    "        wk.options[\"SIGMA\"] = 10.0/fcmin;\n",
    "    end\n",
    "\n",
    "    # Decision parameter about increasing too small predictor\n",
    "    # to greater corrector value\n",
    "    initOption!(wk,\"SIGMA2\",0.0);\n",
    "    if wk.options[\"SIGMA2\"] < 1.0\n",
    "        wk.options[\"SIGMA2\"] = 10.0/fcmin;\n",
    "    end\n",
    "\n",
    "    # Starting value of damping factor (fcmin <= fc <= 1.0)\n",
    "    if nonlin <= 2 && !qfcstr\n",
    "        # for linear or mildly nonlinear problems\n",
    "        fc = 1.0;\n",
    "    else\n",
    "        # for highly or extremely nonlinear problems\n",
    "        fc = getOption!(wk,\"FCSTART\");\n",
    "    end\n",
    "\n",
    "    # Simplified Newton iteration implies ordinary Newton iteration mode\n",
    "    if getOption!(opt,\"QSIMPL\",0) == 1\n",
    "        fc = 1.0;\n",
    "    end\n",
    "\n",
    "    # If ordinary Newton iteration, damping factor is always 1\n",
    "    if getOption!(opt,\"QORDI\",0) == 1\n",
    "        fc = 1.0;\n",
    "    end\n",
    "\n",
    "    wk.options[\"FCSTART\"] = fc\n",
    "\n",
    "    # Print something\n",
    "\n",
    "    # Time measurement\n",
    "\n",
    "    retCode = -1;\n",
    "\n",
    "    # If retCode is unmodified on exit, successive steps are required\n",
    "    # to complete the Newton iterations\n",
    "    if nbroy == 0\n",
    "        nbroy = 1;\n",
    "    end\n",
    "\n",
    "    # Call to n1int\n",
    "    (x,xscal,opt,wk,retCode,xiter,sumxall,dlevfall,sumxqall,tolall,fcall) = \n",
    "    n1int(n,f,x,xscal,nitmax,nonlin,opt,wk,m1,m2,nbroy,xiter,sumxall,dlevfall,sumxqall,\n",
    "    tolall,fcall,qbdamp);\n",
    "\n",
    "    # Print statistics\n",
    "\n",
    "    # set stats variable\n",
    "\n",
    "    return (stats, retCode)\n",
    "end"
   ]
  },
  {
   "cell_type": "code",
   "execution_count": 9,
   "metadata": {
    "collapsed": false
   },
   "outputs": [
    {
     "name": "stdout",
     "output_type": "stream",
     "text": [
      "retCode = -1\n",
      "\n",
      "Options = OptionsNLEQ with 10 options:\n",
      "  BOUNDEDDAMP: 0\n",
      "       JACGEN: 2\n",
      "        MSTOR: 0\n",
      "       NONLIN: 3\n",
      "    NOROWSCAL: 0\n",
      "       PR_ERR: 0\n",
      "        QORDI: 0\n",
      "       QRANK1: 0\n",
      "       QSIMPL: 0\n",
      "        QSUCC: 0\n",
      "lasted changed 2016-05-08T15:09:12\n",
      "\n",
      "WK = OptionsNLEQ with 36 options:\n",
      "        A: 0.0\n",
      "     CONV: 0.0\n",
      "    DLEVF: 0.0\n",
      "   DMYCOR: 0.0\n",
      "       DX: [0.0,0.0,0.0,0.0]\n",
      "      DXQ: [0.0,0.0,0.0,0.0]\n",
      "     DXQA: [0.0,0.0,0.0,0.0]\n",
      "   DXSAVE: 0.0\n",
      "      ETA: [0.0,0.0,0.0,0.0]\n",
      "        F: [0.0,0.0,0.0,0.0]\n",
      "       FA: [0.0,0.0,0.0,0.0]\n",
      "      FCA: 0.0\n",
      "    FCBND: 0.0\n",
      "   FCKEEP: 0.0\n",
      "    FCMIN: 0.0001\n",
      "    FCMON: 0.0\n",
      "    FCPRI: 0.0\n",
      "  FCSTART: 0.01\n",
      "       FW: [0.0,0.0,0.0,0.0]\n",
      "    ICONV: 0\n",
      "    NCORR: 0\n",
      "      NEW: 0\n",
      "     NFCN: 0\n",
      "    NFCNJ: 0\n",
      "    NITER: 0\n",
      "   NITMAX: 50\n",
      "     NJAC: 0\n",
      "   NREJR1: 0\n",
      "    SIGMA: 100000.0\n",
      "   SIGMA2: 100000.0\n",
      "     SUMX: 0.0\n",
      "   SUMXA0: 0.0\n",
      "   SUMXA1: 0.0\n",
      "       XA: [0.0,0.0,0.0,0.0]\n",
      "       XW: [0.0,0.0,0.0,0.0]\n",
      "      XWA: [0.0,0.0,0.0,0.0]\n",
      "lasted changed 2016-05-08T15:09:12\n"
     ]
    }
   ],
   "source": [
    "include(\"CallTest.jl\")"
   ]
  },
  {
   "cell_type": "code",
   "execution_count": 10,
   "metadata": {
    "collapsed": false
   },
   "outputs": [
    {
     "data": {
      "text/plain": [
       "n1scal (generic function with 1 method)"
      ]
     },
     "execution_count": 10,
     "metadata": {},
     "output_type": "execute_result"
    }
   ],
   "source": [
    "include(\"MachineConsts.jl\")\n",
    "function n1scal(n,x,xa,xscal,iscal,qinisc,opt::OptionsNLEQ)\n",
    "    # Get machine constants required\n",
    "    small =  getMachineConstants(6);\n",
    "    \n",
    "    if iscal == 1\n",
    "        xw = xscal;\n",
    "    else\n",
    "        xw = max(xscal,max((abs(x)+abs(xa))*0.5,small*ones(n)));\n",
    "    end\n",
    "    \n",
    "    # TODO: printing mumbo jumbo\n",
    "    \n",
    "    return xw\n",
    "end"
   ]
  },
  {
   "cell_type": "code",
   "execution_count": 11,
   "metadata": {
    "collapsed": false
   },
   "outputs": [
    {
     "data": {
      "text/plain": [
       "n1scrf (generic function with 1 method)"
      ]
     },
     "execution_count": 11,
     "metadata": {},
     "output_type": "execute_result"
    }
   ],
   "source": [
    "# TODO: check the sparse part\n",
    "function n1scrf(m,n,a)\n",
    "    fw = zeros(n);\n",
    "    if issparse(a)\n",
    "        nza = nnz(a);\n",
    "        (row,col,valA) = findnz(a);\n",
    "        aout = sparse(row,col,zeros(nza),m,n);\n",
    "        fw[row[1:nza]] = max(fw[row[1:nza]],abs(val));\n",
    "        ## The above line replaces the for loop\n",
    "        #for j = 1:nza\n",
    "        #    rj = row[j];\n",
    "        #    aaj = abs(a[rj,col[j]]);\n",
    "        #    fw[rj] = max(fw[rj],aaj);\n",
    "        #end\n",
    "        ##\n",
    "        for k = 1:m\n",
    "            if fw[k] > 0.0\n",
    "                fw[k] = 1.0/fw[k];\n",
    "            else\n",
    "                fw[k] = 1.0;\n",
    "            end\n",
    "        end\n",
    "        \n",
    "        aout[row,col] = valA.*fw[row[1:nza]];\n",
    "        ## The above line replaces the for loop\n",
    "        #for j = 1:nza\n",
    "        #    aout[row[j],col[j]] = valA[j]*fw[row[j]];\n",
    "        #end\n",
    "    else\n",
    "        aout = zero(a);\n",
    "        for k = 1:m\n",
    "            s1 = max(abs(a[k,1:n]));\n",
    "            if s1 > 0.0\n",
    "                s1 = 1.0/s1;\n",
    "                fw[k] = s1;\n",
    "                aout[k,1:n] = a[k,1:n]*s1;\n",
    "            else\n",
    "                fw[k] = 1.0;\n",
    "                aout[k,1:n] = a[k,1:n];\n",
    "            end\n",
    "        end\n",
    "    end\n",
    "    \n",
    "    return (aout,fw)\n",
    "end"
   ]
  },
  {
   "cell_type": "code",
   "execution_count": 12,
   "metadata": {
    "collapsed": false
   },
   "outputs": [
    {
     "data": {
      "text/plain": [
       "n1scrb (generic function with 1 method)"
      ]
     },
     "execution_count": 12,
     "metadata": {},
     "output_type": "execute_result"
    }
   ],
   "source": [
    "function n1scrb(n,lda,ml,mu,a)\n",
    "    fw = zeros(n);\n",
    "    aout = zero(a);\n",
    "    m2 = ml + mu + 1;\n",
    "    for k = 1:n\n",
    "        s1 = 0.0;\n",
    "        l2 = max(1, k - ml);\n",
    "        l3 = min(n, k + mu);\n",
    "        k1 = m2 + k;\n",
    "        \n",
    "        # TODO: consider replacing this loop\n",
    "        for l1 = l2:l3\n",
    "            s1 = max(s1,abs(a[k1-l1,l1]));\n",
    "        end\n",
    "        \n",
    "        if s1 > 0.0\n",
    "            s1 = 1.0/s1;\n",
    "            fw[k] = s1;\n",
    "            for l1 = l2:l3\n",
    "                aout[k1-l1,l1] = a[k1-l1,l1]*s1;\n",
    "            end\n",
    "        else\n",
    "            fw[k] = 1.0;\n",
    "        end\n",
    "    end\n",
    "    \n",
    "    return (aout,fw)\n",
    "end"
   ]
  },
  {
   "cell_type": "code",
   "execution_count": 13,
   "metadata": {
    "collapsed": false
   },
   "outputs": [
    {
     "data": {
      "text/plain": [
       "n1fact (generic function with 1 method)"
      ]
     },
     "execution_count": 13,
     "metadata": {},
     "output_type": "execute_result"
    }
   ],
   "source": [
    "function n1fact(n,lda,ml,mu,a,opt::OptionsNLEQ)\n",
    "    # Does the LU factorization\n",
    "    # TODO: Julia does not have a banaded mode for LU\n",
    "    return (l,u,p,i)\n",
    "end"
   ]
  },
  {
   "cell_type": "code",
   "execution_count": 14,
   "metadata": {
    "collapsed": false
   },
   "outputs": [
    {
     "data": {
      "text/plain": [
       "n1jcfb (generic function with 1 method)"
      ]
     },
     "execution_count": 14,
     "metadata": {},
     "output_type": "execute_result"
    }
   ],
   "source": [
    "function n1jacb(fcn,par,n,lda,ml,x,fx,yscal,ajdel,ajmin,nfcn)\n",
    "    # Evaluation of banded Jacobian matrix using finite\n",
    "    # difference approximation adapted for use in nonlinear\n",
    "    # systems solver NLEQ1\n",
    "    return (a,nfcnnew,ifail)\n",
    "end\n",
    "\n",
    "function n1jcf(fcn,par,n,lda,x,fx,yscal,eta,etamin,etamax,etadif,conv,nfcn)\n",
    "    # Approximation of dense Jacobian matrix for nonlinear systems solver\n",
    "    # NLEQ1 with feed-back control of discretization and rounding errors\n",
    "    return (a,eta,nfcnnew,ifail)\n",
    "end\n",
    "\n",
    "function n1jcfb(fcn,par,n,lda,ml,x,fx,yscal,eta,etamin,etamax,etadif,\n",
    "                                           conv,nfcn)\n",
    "    #Approximation of banded Jacobian matrix for nonlinear systems solver\n",
    "    #NLEQ1 with feed-back control of discretization and rounding errors\n",
    "    return (a,eta,nfcnnew,ifail)\n",
    "end"
   ]
  },
  {
   "cell_type": "code",
   "execution_count": 15,
   "metadata": {
    "collapsed": false
   },
   "outputs": [
    {
     "data": {
      "text/plain": [
       "n1sout (generic function with 1 method)"
      ]
     },
     "execution_count": 15,
     "metadata": {},
     "output_type": "execute_result"
    }
   ],
   "source": [
    "function n1prv1(dlevf,dlevx,fc,niter,new,mprmon,lumon,qmixio)\n",
    "    # Printing of intermediate values type 1\n",
    "    return nothing\n",
    "end\n",
    "\n",
    "function n1prv2(dlevf,dlevx,fc,niter,mprmon,lumon,qmixio,cmark)\n",
    "    # Printing of intermediate values type 2\n",
    "    return nothing\n",
    "end\n",
    "\n",
    "function n1sout(n,x,mode,opt::OptionsNLEQ,wk::OptionsNLEQ,mprint,luout)\n",
    "    # Sol out printing of iterates\n",
    "    return nothing\n",
    "end"
   ]
  },
  {
   "cell_type": "code",
   "execution_count": 16,
   "metadata": {
    "collapsed": false
   },
   "outputs": [
    {
     "data": {
      "text/plain": [
       "n1int (generic function with 1 method)"
      ]
     },
     "execution_count": 16,
     "metadata": {},
     "output_type": "execute_result"
    }
   ],
   "source": [
    "function n1int(x)\n",
    "    # Temporary variables\n",
    "    one  = 1.0;\n",
    "    zero = 0.0;\n",
    "    half = 0.5;\n",
    "    ten  = 10.0;\n",
    "    epmach = getMachineConstants(3);\n",
    "    small  = getMachineConstants(6);\n",
    "    n = length(x);\n",
    "    \n",
    "    # Initialization\n",
    "    \n",
    "end"
   ]
  },
  {
   "cell_type": "code",
   "execution_count": null,
   "metadata": {
    "collapsed": true
   },
   "outputs": [],
   "source": []
  }
 ],
 "metadata": {
  "kernelspec": {
   "display_name": "Julia 0.4.5",
   "language": "julia",
   "name": "julia-0.4"
  },
  "language_info": {
   "file_extension": ".jl",
   "mimetype": "application/julia",
   "name": "julia",
   "version": "0.4.5"
  }
 },
 "nbformat": 4,
 "nbformat_minor": 0
}
